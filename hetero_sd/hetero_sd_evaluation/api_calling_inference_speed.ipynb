{
 "cells": [
  {
   "cell_type": "code",
   "execution_count": 5,
   "metadata": {},
   "outputs": [],
   "source": [
    "import numpy as np\n",
    "import csv"
   ]
  },
  {
   "cell_type": "code",
   "execution_count": 8,
   "metadata": {},
   "outputs": [
    {
     "name": "stdout",
     "output_type": "stream",
     "text": [
      "Average inference speed for API calling from 3 users 88.52857850628183 tokens/s\n"
     ]
    }
   ],
   "source": [
    "inference_speed = []\n",
    "for i in range(1,4):\n",
    "    with open(f\"benchmark_user_{i}.csv\", \"r\",) as file:\n",
    "        reader = csv.reader(file)\n",
    "        for row in reader:\n",
    "            if row[3] == 'Inference Speed':\n",
    "                continue\n",
    "            inference_speed.append(float(row[3]))\n",
    "print(f\"Average inference speed for API calling from 3 users {np.mean(inference_speed)} tokens/s\")"
   ]
  }
 ],
 "metadata": {
  "kernelspec": {
   "display_name": "base",
   "language": "python",
   "name": "python3"
  },
  "language_info": {
   "codemirror_mode": {
    "name": "ipython",
    "version": 3
   },
   "file_extension": ".py",
   "mimetype": "text/x-python",
   "name": "python",
   "nbconvert_exporter": "python",
   "pygments_lexer": "ipython3",
   "version": "3.11.5"
  }
 },
 "nbformat": 4,
 "nbformat_minor": 2
}
